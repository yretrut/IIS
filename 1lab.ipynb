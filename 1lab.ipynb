{
  "nbformat": 4,
  "nbformat_minor": 0,
  "metadata": {
    "colab": {
      "provenance": [],
      "authorship_tag": "ABX9TyMQViTut2PuphNs5jj7p1bk",
      "include_colab_link": true
    },
    "kernelspec": {
      "name": "python3",
      "display_name": "Python 3"
    },
    "language_info": {
      "name": "python"
    }
  },
  "cells": [
    {
      "cell_type": "markdown",
      "metadata": {
        "id": "view-in-github",
        "colab_type": "text"
      },
      "source": [
        "<a href=\"https://colab.research.google.com/github/yretrut/IIS/blob/main/1lab.ipynb\" target=\"_parent\"><img src=\"https://colab.research.google.com/assets/colab-badge.svg\" alt=\"Open In Colab\"/></a>"
      ]
    },
    {
      "cell_type": "markdown",
      "source": [
        "**Лабораторная работа 1**\n",
        "\n",
        " Основы работы в Google Colaboratory\n"
      ],
      "metadata": {
        "id": "0Eu-x__3OxVl"
      }
    },
    {
      "cell_type": "markdown",
      "source": [
        "Создадим ячейку с коротким скриптом Python, который позволяет рассчитать значение переменной y по формуле:\n",
        "y=(5-2x)/∛x\n"
      ],
      "metadata": {
        "id": "Qce-W9CeO9cF"
      }
    },
    {
      "cell_type": "code",
      "execution_count": 3,
      "metadata": {
        "colab": {
          "base_uri": "https://localhost:8080/"
        },
        "id": "XiUHFzCrIzAE",
        "outputId": "6adfd65b-792c-41f2-bc33-af3c0cbae789"
      },
      "outputs": [
        {
          "name": "stdout",
          "output_type": "stream",
          "text": [
            "x=7\n"
          ]
        },
        {
          "output_type": "execute_result",
          "data": {
            "text/plain": [
              "-4.704821627172392"
            ]
          },
          "metadata": {},
          "execution_count": 3
        }
      ],
      "source": [
        "x=int(input('x='))\n",
        "y=(5-2*x)/(x)**(1/3)\n",
        "y"
      ]
    },
    {
      "cell_type": "markdown",
      "source": [
        "Рассчитать значение f в зависимости от x.\n",
        "\n",
        "f={x^2,x<-10\n",
        "\n",
        "  -8x,-10<x<0\n",
        "\n",
        "  sin⁡x,x>0\n",
        "  }\n"
      ],
      "metadata": {
        "id": "52JBfl6yPJe4"
      }
    },
    {
      "cell_type": "markdown",
      "source": [
        "***Вычисление F***"
      ],
      "metadata": {
        "id": "0rGf-pb6JlO3"
      }
    },
    {
      "cell_type": "code",
      "source": [
        "import numpy\n",
        "x=int(input('x='))\n",
        "if x<-10:\n",
        "  f=x**2\n",
        "elif x>0:\n",
        "  f=numpy.sin(x)\n",
        "else:\n",
        "  f=-8*x\n",
        "f"
      ],
      "metadata": {
        "colab": {
          "base_uri": "https://localhost:8080/"
        },
        "id": "hzd6FIWpJy3L",
        "outputId": "b0449116-4db1-4a71-96cd-32f6a3404b3e"
      },
      "execution_count": 6,
      "outputs": [
        {
          "name": "stdout",
          "output_type": "stream",
          "text": [
            "x=-5\n"
          ]
        },
        {
          "output_type": "execute_result",
          "data": {
            "text/plain": [
              "40"
            ]
          },
          "metadata": {},
          "execution_count": 6
        }
      ]
    },
    {
      "cell_type": "markdown",
      "source": [
        "Работа со списками.\n",
        "\n",
        "![Рисунок1.jpg](data:image/jpeg;base64,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)"
      ],
      "metadata": {
        "id": "NleBPWVMKTau"
      }
    },
    {
      "cell_type": "code",
      "source": [
        "c = [c * 3 for c in 'list']\n",
        "c"
      ],
      "metadata": {
        "colab": {
          "base_uri": "https://localhost:8080/"
        },
        "id": "s-fnL7G7K3EG",
        "outputId": "eae9af2d-3a3a-4ac6-8fd4-5f275f93e07a"
      },
      "execution_count": 7,
      "outputs": [
        {
          "output_type": "execute_result",
          "data": {
            "text/plain": [
              "['lll', 'iii', 'sss', 'ttt']"
            ]
          },
          "metadata": {},
          "execution_count": 7
        }
      ]
    },
    {
      "cell_type": "markdown",
      "source": [
        "Создать таблицу умножения."
      ],
      "metadata": {
        "id": "DdDQ9f8fPoda"
      }
    },
    {
      "cell_type": "code",
      "source": [
        "n=7\n",
        "for i in range(1, n+1):\n",
        "     print(*range(i, i*n+1, i), sep='\\t')"
      ],
      "metadata": {
        "colab": {
          "base_uri": "https://localhost:8080/"
        },
        "id": "URpe9nBZLO-2",
        "outputId": "9feb03a2-b06f-4993-a052-db9087f1383a"
      },
      "execution_count": 8,
      "outputs": [
        {
          "output_type": "stream",
          "name": "stdout",
          "text": [
            "1\t2\t3\t4\t5\t6\t7\n",
            "2\t4\t6\t8\t10\t12\t14\n",
            "3\t6\t9\t12\t15\t18\t21\n",
            "4\t8\t12\t16\t20\t24\t28\n",
            "5\t10\t15\t20\t25\t30\t35\n",
            "6\t12\t18\t24\t30\t36\t42\n",
            "7\t14\t21\t28\t35\t42\t49\n"
          ]
        }
      ]
    },
    {
      "cell_type": "markdown",
      "source": [
        "Пример обработки двумерного массива."
      ],
      "metadata": {
        "id": "JVWNffqnPr9R"
      }
    },
    {
      "cell_type": "code",
      "source": [
        "n = 4\n",
        "a = [[0] * n for i in range(n)]\n",
        "for i in range(n):\n",
        "    for j in range(n):\n",
        "        if i < j:\n",
        "            a[i][j] = 0\n",
        "        elif i > j:\n",
        "            a[i][j] = 2\n",
        "        else:\n",
        "            a[i][j] = 1\n",
        "for row in a:\n",
        "    print(' '.join([str(elem) for elem in row]))"
      ],
      "metadata": {
        "colab": {
          "base_uri": "https://localhost:8080/"
        },
        "id": "e_7ArMZwLdFh",
        "outputId": "f0bbd749-2908-43b3-d60d-4ead1122b628"
      },
      "execution_count": 9,
      "outputs": [
        {
          "output_type": "stream",
          "name": "stdout",
          "text": [
            "1 0 0 0\n",
            "2 1 0 0\n",
            "2 2 1 0\n",
            "2 2 2 1\n"
          ]
        }
      ]
    },
    {
      "cell_type": "markdown",
      "source": [
        "Самостоятельная работа:\n",
        "\n",
        "1. Вывести максимальное из двух чисел А и В."
      ],
      "metadata": {
        "id": "9P__1lYDMJXd"
      }
    },
    {
      "cell_type": "code",
      "source": [
        "a = int(input('A = '))\n",
        "b = int(input('B = '))\n",
        "max(a,b)"
      ],
      "metadata": {
        "colab": {
          "base_uri": "https://localhost:8080/"
        },
        "id": "ifMBm7MILoLY",
        "outputId": "b8eae95a-908d-4d2d-96dd-e22a79537175"
      },
      "execution_count": 10,
      "outputs": [
        {
          "name": "stdout",
          "output_type": "stream",
          "text": [
            "A = 56\n",
            "B = 76\n"
          ]
        },
        {
          "output_type": "execute_result",
          "data": {
            "text/plain": [
              "76"
            ]
          },
          "metadata": {},
          "execution_count": 10
        }
      ]
    },
    {
      "cell_type": "markdown",
      "source": [
        "2. Проверить число А на четность."
      ],
      "metadata": {
        "id": "ysIYRBGoMRF8"
      }
    },
    {
      "cell_type": "code",
      "source": [
        "a = int(input('A = '))\n",
        "if a%2 == 0:\n",
        "  print('Число А четное')\n",
        "else:\n",
        "  print('Число А нечетное')"
      ],
      "metadata": {
        "colab": {
          "base_uri": "https://localhost:8080/"
        },
        "id": "iDMAiFMvMH_x",
        "outputId": "bb50ff61-6e2e-498a-e987-13a4411501e3"
      },
      "execution_count": 13,
      "outputs": [
        {
          "output_type": "stream",
          "name": "stdout",
          "text": [
            "A = 7654\n",
            "Число А четное\n"
          ]
        }
      ]
    },
    {
      "cell_type": "markdown",
      "source": [
        "3. Рассчитать значение f в зависимости от x."
      ],
      "metadata": {
        "id": "4dWHbe2kNElE"
      }
    },
    {
      "cell_type": "code",
      "source": [
        "import numpy\n",
        "\n",
        "x = int(input('Введите X = '))\n",
        "f = 0\n",
        "\n",
        "if x < -3:\n",
        "  f = numpy.cos(3*x)\n",
        "elif -3 < x < 0:\n",
        "  f = 2*x/(x-9)\n",
        "else:\n",
        "  f = (3+x)**(1/5)\n",
        "\n",
        "f\n"
      ],
      "metadata": {
        "colab": {
          "base_uri": "https://localhost:8080/"
        },
        "id": "8P3oHmWuNAk-",
        "outputId": "795b4085-95a2-4380-b884-8516b2f27633"
      },
      "execution_count": 14,
      "outputs": [
        {
          "name": "stdout",
          "output_type": "stream",
          "text": [
            "Введите X = 5\n"
          ]
        },
        {
          "output_type": "execute_result",
          "data": {
            "text/plain": [
              "1.5157165665103982"
            ]
          },
          "metadata": {},
          "execution_count": 14
        }
      ]
    }
  ]
}